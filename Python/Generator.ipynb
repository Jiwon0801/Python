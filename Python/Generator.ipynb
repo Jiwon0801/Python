{
 "cells": [
  {
   "cell_type": "code",
   "execution_count": 2,
   "metadata": {},
   "outputs": [
    {
     "name": "stdout",
     "output_type": "stream",
     "text": [
      "0\n",
      "1\n",
      "2\n",
      "3\n",
      "4\n",
      "\n",
      "0\n",
      "1\n",
      "2\n",
      "3\n",
      "4\n"
     ]
    }
   ],
   "source": [
    "def YourRange(start, end):\n",
    "    current = start\n",
    "    while current < end:\n",
    "        yield current # return과 비슷한 의미\n",
    "        current += 1\n",
    "    return\n",
    "\n",
    "for i in YourRange(0,5):\n",
    "    print(i)\n",
    "    \n",
    "    \n",
    "print() \n",
    "\n",
    "iter = YourRange(0,5)\n",
    "print(iter.__next__())\n",
    "print(iter.__next__())\n",
    "print(iter.__next__())\n",
    "print(iter.__next__())\n",
    "print(iter.__next__())\n",
    "\n",
    "    "
   ]
  },
  {
   "cell_type": "code",
   "execution_count": 6,
   "metadata": {},
   "outputs": [
    {
     "name": "stdout",
     "output_type": "stream",
     "text": [
      "2\n",
      "3\n",
      "5\n",
      "7\n",
      "11\n",
      "13\n",
      "17\n",
      "19\n",
      "23\n",
      "29\n",
      "31\n",
      "37\n",
      "41\n",
      "43\n",
      "47\n"
     ]
    }
   ],
   "source": [
    "def PrimeSequence(end):\n",
    "    current = 2\n",
    "    while current <= end:\n",
    "        if isPrime(current):\n",
    "            yield current\n",
    "        current += 1\n",
    "        \n",
    "def isPrime(num):\n",
    "    for n in range(2, num):\n",
    "            if num%n == 0:\n",
    "                return False\n",
    "            \n",
    "    return True\n",
    "    \n",
    "            \n",
    "\n",
    "for i in PrimeSequence(50):\n",
    "    print(i)"
   ]
  },
  {
   "cell_type": "code",
   "execution_count": null,
   "metadata": {},
   "outputs": [],
   "source": []
  }
 ],
 "metadata": {
  "kernelspec": {
   "display_name": "Python 3",
   "language": "python",
   "name": "python3"
  },
  "language_info": {
   "codemirror_mode": {
    "name": "ipython",
    "version": 3
   },
   "file_extension": ".py",
   "mimetype": "text/x-python",
   "name": "python",
   "nbconvert_exporter": "python",
   "pygments_lexer": "ipython3",
   "version": "3.7.0"
  }
 },
 "nbformat": 4,
 "nbformat_minor": 2
}
