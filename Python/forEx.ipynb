{
 "cells": [
  {
   "cell_type": "code",
   "execution_count": 2,
   "metadata": {},
   "outputs": [
    {
     "name": "stdout",
     "output_type": "stream",
     "text": [
      "뇌를\n",
      "자극하는\n",
      "파이썬\n"
     ]
    }
   ],
   "source": [
    "for s in ['뇌를', '자극하는', '파이썬']:\n",
    "    print(s)"
   ]
  },
  {
   "cell_type": "code",
   "execution_count": 4,
   "metadata": {},
   "outputs": [
    {
     "name": "stdout",
     "output_type": "stream",
     "text": [
      "0\n",
      "1\n",
      "2\n",
      "3\n",
      "4\n"
     ]
    }
   ],
   "source": [
    "for i in range(0,5,1):\n",
    "    print(i)"
   ]
  },
  {
   "cell_type": "code",
   "execution_count": 5,
   "metadata": {},
   "outputs": [
    {
     "data": {
      "text/plain": [
       "range(0, 10)"
      ]
     },
     "execution_count": 5,
     "metadata": {},
     "output_type": "execute_result"
    }
   ],
   "source": [
    "range(10)"
   ]
  },
  {
   "cell_type": "code",
   "execution_count": 6,
   "metadata": {},
   "outputs": [
    {
     "name": "stdout",
     "output_type": "stream",
     "text": [
      "0\n",
      "2\n",
      "4\n",
      "6\n",
      "8\n"
     ]
    }
   ],
   "source": [
    "for i in range(0,10,2):\n",
    "    print(i)"
   ]
  },
  {
   "cell_type": "code",
   "execution_count": 7,
   "metadata": {},
   "outputs": [
    {
     "data": {
      "text/plain": [
       "[5, 8]"
      ]
     },
     "execution_count": 7,
     "metadata": {},
     "output_type": "execute_result"
    }
   ],
   "source": [
    "list(range(5,10,3))"
   ]
  },
  {
   "cell_type": "code",
   "execution_count": 8,
   "metadata": {},
   "outputs": [
    {
     "data": {
      "text/plain": [
       "[10, 9, 8, 7, 6, 5, 4, 3, 2, 1]"
      ]
     },
     "execution_count": 8,
     "metadata": {},
     "output_type": "execute_result"
    }
   ],
   "source": [
    "list(range(10, 0, -1))"
   ]
  },
  {
   "cell_type": "code",
   "execution_count": 10,
   "metadata": {},
   "outputs": [
    {
     "name": "stdout",
     "output_type": "stream",
     "text": [
      "*\n",
      "**\n",
      "***\n",
      "****\n",
      "*****\n"
     ]
    }
   ],
   "source": [
    "for i in range(1,6):\n",
    "    for j in range(i):\n",
    "        print(\"*\", end=\"\",) # 줄바꿈 출력하지 않음\n",
    "    print()"
   ]
  },
  {
   "cell_type": "code",
   "execution_count": 14,
   "metadata": {},
   "outputs": [
    {
     "name": "stdout",
     "output_type": "stream",
     "text": [
      "('Apple', 'www.apple.com')\n",
      "('Python', 'www.python.org')\n",
      "('MS', 'www.microsoft.com')\n",
      "\n",
      "Apple : www.apple.com\n",
      "Python : www.python.org\n",
      "MS : www.microsoft.com\n"
     ]
    }
   ],
   "source": [
    "dic = {'Apple': 'www.apple.com',\n",
    "      'Python': 'www.python.org',\n",
    "      'MS': 'www.microsoft.com'}\n",
    "\n",
    "for t in dic.items():\n",
    "    print(t)\n",
    "print()\n",
    "\n",
    "for k,v in dic.items():\n",
    "    print(\"{0} : {1}\".format(k,v))"
   ]
  },
  {
   "cell_type": "code",
   "execution_count": 17,
   "metadata": {},
   "outputs": [
    {
     "name": "stdout",
     "output_type": "stream",
     "text": [
      "0 ('Apple', 'www.apple.com')\n",
      "1 ('Python', 'www.python.org')\n",
      "2 ('MS', 'www.microsoft.com')\n",
      "\n",
      "0] Apple : www.apple.com\n",
      "1] Python : www.python.org\n",
      "2] MS : www.microsoft.com\n"
     ]
    }
   ],
   "source": [
    "dic = {'Apple': 'www.apple.com',\n",
    "      'Python': 'www.python.org',\n",
    "      'MS': 'www.microsoft.com'}\n",
    "\n",
    "for ix,t in enumerate(dic.items()) :\n",
    "    print(ix, t)\n",
    "print()\n",
    "for ix, (k,v) in enumerate(dic.items()):\n",
    "    print(\"{}] {} : {}\".format(ix, k,v))"
   ]
  },
  {
   "cell_type": "code",
   "execution_count": null,
   "metadata": {},
   "outputs": [],
   "source": []
  }
 ],
 "metadata": {
  "kernelspec": {
   "display_name": "Python 3",
   "language": "python",
   "name": "python3"
  },
  "language_info": {
   "codemirror_mode": {
    "name": "ipython",
    "version": 3
   },
   "file_extension": ".py",
   "mimetype": "text/x-python",
   "name": "python",
   "nbconvert_exporter": "python",
   "pygments_lexer": "ipython3",
   "version": "3.7.0"
  }
 },
 "nbformat": 4,
 "nbformat_minor": 2
}
