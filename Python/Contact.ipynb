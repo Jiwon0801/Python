{
 "cells": [
  {
   "cell_type": "code",
   "execution_count": 1,
   "metadata": {},
   "outputs": [],
   "source": [
    "from contacts.ContactInfo import ContactInfo\n",
    "from contacts.ContactList import ContactList"
   ]
  },
  {
   "cell_type": "code",
   "execution_count": 11,
   "metadata": {},
   "outputs": [
    {
     "name": "stdout",
     "output_type": "stream",
     "text": [
      "박상현 : senlab@gmail.com\n",
      "hanbit : noreply@gmail.com\n"
     ]
    }
   ],
   "source": [
    "sanghyun = ContactInfo('박상현', 'senlab@gmail.com')\n",
    "hanbit = ContactInfo('hanbit', 'noreply@gmail.com')\n",
    "\n",
    "sanghyun.print_info()\n",
    "hanbit.print_info()"
   ]
  },
  {
   "cell_type": "code",
   "execution_count": 2,
   "metadata": {},
   "outputs": [
    {
     "name": "stdout",
     "output_type": "stream",
     "text": [
      "홍길동2 : hong2@naver.com\n",
      "홍길동3 : hong3@naver.com\n",
      "홍길동4 : hong4@naver.com\n",
      "\n",
      "홍길동2 : hong2@naver.com\n",
      "홍길동3 : hong3@naver.com\n",
      "홍길동4 : hong4@naver.com\n"
     ]
    }
   ],
   "source": [
    "contactList = ContactList()\n",
    "contactList.add(ContactInfo('홍길동1', 'hong1@naver.com'))\n",
    "contactList.add(ContactInfo('홍길동2', 'hong2@naver.com'))\n",
    "contactList.add(ContactInfo('홍길동3', 'hong3@naver.com'))\n",
    "contactList.add(ContactInfo('홍길동4', 'hong4@naver.com'))\n",
    "\n",
    "\n",
    "list1 = contactList.getList(start=1)\n",
    "list2 = contactList.find('홍길동1')\n",
    "\n",
    "for ci in list1:\n",
    "    ci.print_info()\n",
    "    \n",
    "print()\n",
    "\n",
    "\n",
    "\n",
    "for ci in contactList: # iteration\n",
    "    ci.print_info()\n"
   ]
  },
  {
   "cell_type": "code",
   "execution_count": null,
   "metadata": {},
   "outputs": [],
   "source": []
  }
 ],
 "metadata": {
  "kernelspec": {
   "display_name": "Python 3",
   "language": "python",
   "name": "python3"
  },
  "language_info": {
   "codemirror_mode": {
    "name": "ipython",
    "version": 3
   },
   "file_extension": ".py",
   "mimetype": "text/x-python",
   "name": "python",
   "nbconvert_exporter": "python",
   "pygments_lexer": "ipython3",
   "version": "3.7.0"
  }
 },
 "nbformat": 4,
 "nbformat_minor": 2
}
