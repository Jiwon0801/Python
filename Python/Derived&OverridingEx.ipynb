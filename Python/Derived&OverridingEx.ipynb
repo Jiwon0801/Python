{
 "cells": [
  {
   "cell_type": "code",
   "execution_count": 2,
   "metadata": {},
   "outputs": [],
   "source": [
    "class Base:\n",
    "    def base_method(self):\n",
    "        print(\"base_method\")\n",
    "        \n",
    "class Derived(Base):\n",
    "    pass"
   ]
  },
  {
   "cell_type": "code",
   "execution_count": 3,
   "metadata": {},
   "outputs": [
    {
     "name": "stdout",
     "output_type": "stream",
     "text": [
      "base_method\n",
      "base_method\n"
     ]
    }
   ],
   "source": [
    "base = Base()\n",
    "base.base_method()\n",
    "derived = Derived()\n",
    "derived.base_method()"
   ]
  },
  {
   "cell_type": "code",
   "execution_count": 19,
   "metadata": {},
   "outputs": [],
   "source": [
    "class A:\n",
    "    def __init__(self, message):\n",
    "        print(\"A.__init__()\")\n",
    "        self.message = message\n",
    "        \n",
    "class B(A):\n",
    "     def __init__(self):\n",
    "        print(\"B.__init__()\")\n",
    "        \n",
    "        super().__init__(\"Hello\") # A.__init__(self)\n",
    "        \n",
    "        print(\"self.message is \" + self.message)"
   ]
  },
  {
   "cell_type": "code",
   "execution_count": 20,
   "metadata": {},
   "outputs": [
    {
     "name": "stdout",
     "output_type": "stream",
     "text": [
      "B.__init__()\n",
      "A.__init__()\n",
      "self.message is Hello\n"
     ]
    }
   ],
   "source": [
    "b = B()"
   ]
  },
  {
   "cell_type": "code",
   "execution_count": 14,
   "metadata": {},
   "outputs": [],
   "source": [
    "################## OverRide\n",
    "\n",
    "class A:\n",
    "    def method(self):\n",
    "        print(\"A\")\n",
    "        \n",
    "class B(A): \n",
    "    def method(self, arg):\n",
    "        super().method()\n",
    "        print(\"B\", arg)\n",
    "        \n",
    "        \n",
    "class C(A):\n",
    "    def method(self):\n",
    "        print(\"C\")\n",
    "        super().method()\n"
   ]
  },
  {
   "cell_type": "code",
   "execution_count": 15,
   "metadata": {},
   "outputs": [
    {
     "name": "stdout",
     "output_type": "stream",
     "text": [
      "A\n",
      "A\n",
      "B Test\n",
      "C\n",
      "A\n"
     ]
    }
   ],
   "source": [
    "A().method()\n",
    "B().method(\"Test\")\n",
    "C().method()"
   ]
  },
  {
   "cell_type": "code",
   "execution_count": 25,
   "metadata": {},
   "outputs": [],
   "source": [
    "class Callable:\n",
    "    def __call__(self):\n",
    "        print(\"I am called.\")\n",
    "    \n",
    "    def print(self):\n",
    "        print(\"Callable 클래스\")"
   ]
  },
  {
   "cell_type": "code",
   "execution_count": 26,
   "metadata": {},
   "outputs": [
    {
     "name": "stdout",
     "output_type": "stream",
     "text": [
      "Callable 클래스\n",
      "I am called.\n"
     ]
    }
   ],
   "source": [
    "obj = Callable()\n",
    "obj.print()\n",
    "obj()"
   ]
  },
  {
   "cell_type": "code",
   "execution_count": null,
   "metadata": {},
   "outputs": [],
   "source": []
  }
 ],
 "metadata": {
  "kernelspec": {
   "display_name": "Python 3",
   "language": "python",
   "name": "python3"
  },
  "language_info": {
   "codemirror_mode": {
    "name": "ipython",
    "version": 3
   },
   "file_extension": ".py",
   "mimetype": "text/x-python",
   "name": "python",
   "nbconvert_exporter": "python",
   "pygments_lexer": "ipython3",
   "version": "3.7.0"
  }
 },
 "nbformat": 4,
 "nbformat_minor": 2
}
