{
 "cells": [
  {
   "cell_type": "code",
   "execution_count": 1,
   "metadata": {},
   "outputs": [],
   "source": [
    "from abc import ABCMeta\n",
    "from abc import abstractmethod"
   ]
  },
  {
   "cell_type": "code",
   "execution_count": 5,
   "metadata": {},
   "outputs": [
    {
     "name": "stdout",
     "output_type": "stream",
     "text": [
      "[Duck] Quack\n",
      "[Duck] Quack\n",
      "AbstrackDuck이 아닙니다.\n"
     ]
    }
   ],
   "source": [
    "class AbstractDuck(metaclass = ABCMeta):\n",
    "    @abstractmethod\n",
    "    def Quack(self):\n",
    "        pass\n",
    "\n",
    "class Duck(AbstractDuck):\n",
    "    def Quack(self):\n",
    "        print(\"[Duck] Quack\") # 정의 안하면 (그냥 pass 시) error\n",
    "        \n",
    "def quack(obj):\n",
    "    if isinstance(obj,AbstractDuck):\n",
    "        obj.Quack()\n",
    "    else :\n",
    "        print(\"AbstrackDuck이 아닙니다.\")\n",
    "        \n",
    "duck = Duck()\n",
    "duck.Quack()\n",
    "\n",
    "quack(duck)\n",
    "quack(\"Hello\")"
   ]
  },
  {
   "cell_type": "code",
   "execution_count": null,
   "metadata": {},
   "outputs": [],
   "source": []
  },
  {
   "cell_type": "code",
   "execution_count": null,
   "metadata": {},
   "outputs": [],
   "source": []
  }
 ],
 "metadata": {
  "kernelspec": {
   "display_name": "Python 3",
   "language": "python",
   "name": "python3"
  },
  "language_info": {
   "codemirror_mode": {
    "name": "ipython",
    "version": 3
   },
   "file_extension": ".py",
   "mimetype": "text/x-python",
   "name": "python",
   "nbconvert_exporter": "python",
   "pygments_lexer": "ipython3",
   "version": "3.7.0"
  }
 },
 "nbformat": 4,
 "nbformat_minor": 2
}
