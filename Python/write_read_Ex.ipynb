{
 "cells": [
  {
   "cell_type": "code",
   "execution_count": 3,
   "metadata": {},
   "outputs": [
    {
     "ename": "UnsupportedOperation",
     "evalue": "not writable",
     "output_type": "error",
     "traceback": [
      "\u001b[1;31m---------------------------------------------------------------------------\u001b[0m",
      "\u001b[1;31mUnsupportedOperation\u001b[0m                      Traceback (most recent call last)",
      "\u001b[1;32m<ipython-input-3-b6ebf2d4f8f1>\u001b[0m in \u001b[0;36m<module>\u001b[1;34m()\u001b[0m\n\u001b[0;32m      1\u001b[0m \u001b[0mfile\u001b[0m \u001b[1;33m=\u001b[0m \u001b[0mopen\u001b[0m\u001b[1;33m(\u001b[0m\u001b[1;34m'test.txt'\u001b[0m\u001b[1;33m)\u001b[0m\u001b[1;33m\u001b[0m\u001b[0m\n\u001b[1;32m----> 2\u001b[1;33m \u001b[0mfile\u001b[0m\u001b[1;33m.\u001b[0m\u001b[0mwrite\u001b[0m\u001b[1;33m(\u001b[0m\u001b[1;34m'hello'\u001b[0m\u001b[1;33m)\u001b[0m\u001b[1;33m\u001b[0m\u001b[0m\n\u001b[0m\u001b[0;32m      3\u001b[0m \u001b[0mfile\u001b[0m\u001b[1;33m.\u001b[0m\u001b[0mwrite\u001b[0m\u001b[1;33m(\u001b[0m\u001b[1;34m'hello'\u001b[0m\u001b[1;33m)\u001b[0m\u001b[1;33m\u001b[0m\u001b[0m\n\u001b[0;32m      4\u001b[0m \u001b[0mfile\u001b[0m\u001b[1;33m.\u001b[0m\u001b[0mclose\u001b[0m\u001b[1;33m(\u001b[0m\u001b[1;33m)\u001b[0m\u001b[1;33m\u001b[0m\u001b[0m\n",
      "\u001b[1;31mUnsupportedOperation\u001b[0m: not writable"
     ]
    }
   ],
   "source": [
    "file = open('test.txt')\n",
    "file.write('hello')\n",
    "file.write('hello')\n",
    "file.close()"
   ]
  },
  {
   "cell_type": "code",
   "execution_count": 2,
   "metadata": {},
   "outputs": [
    {
     "name": "stdout",
     "output_type": "stream",
     "text": [
      "hellohello\n"
     ]
    }
   ],
   "source": [
    "file = open ('test.txt')\n",
    "str = file.read()\n",
    "print(str)\n",
    "file.close()"
   ]
  },
  {
   "cell_type": "code",
   "execution_count": 2,
   "metadata": {},
   "outputs": [
    {
     "name": "stdout",
     "output_type": "stream",
     "text": [
      "hellohello\n"
     ]
    }
   ],
   "source": [
    "with open('test.txt') as file: #file.close() 필요 없음\n",
    "    str = file.read()\n",
    "    print(str)\n",
    "    "
   ]
  },
  {
   "cell_type": "code",
   "execution_count": 4,
   "metadata": {},
   "outputs": [
    {
     "name": "stdout",
     "output_type": "stream",
     "text": [
      "initialized\n",
      "entered\n",
      "hellohello\n",
      "exited\n"
     ]
    }
   ],
   "source": [
    "file = open('test.txt', 'w')\n",
    "file.write('hello')\n",
    "file.write('hello')\n",
    "file.close()\n",
    "\n",
    "\n",
    "class open2 (object):\n",
    "    def __init__(self, path):\n",
    "        print('initialized')\n",
    "        self.file = open(path)\n",
    "        \n",
    "    def __enter__(self):\n",
    "        print('entered')\n",
    "        return self.file\n",
    "    \n",
    "    def __exit__(self, ext, exv, trb):\n",
    "        print('exited')\n",
    "        self.file.close()\n",
    "        return True\n",
    "    \n",
    "with open2(\"test.txt\") as file:\n",
    "    s = file.read()\n",
    "    print(s)"
   ]
  },
  {
   "cell_type": "code",
   "execution_count": 20,
   "metadata": {},
   "outputs": [
    {
     "name": "stdout",
     "output_type": "stream",
     "text": [
      "we'll find a way we always have - Interstellar \n",
      "I'll find you and I'll kill you - Taken \n",
      "i'll be back - Terminator 2 \n",
      "we'll find a way we always have - Interstellar \n",
      "I'll find you and I'll kill you - Taken \n",
      "i'll be back - Terminator 2 \n"
     ]
    }
   ],
   "source": [
    "lines = [\"we'll find a way we always have - Interstellar \\n\",\n",
    "        \"I'll find you and I'll kill you - Taken \\n\",\n",
    "        \"i'll be back - Terminator 2 \\n\"]\n",
    "\n",
    "with open('movie_quotes.txt', 'w' ) as file:\n",
    "    for line in lines:\n",
    "        file.write(line)\n",
    "        \n",
    "with open('movie_quotes.txt', 'w' ) as file:\n",
    "    file.writelines(lines)\n",
    "\n",
    "with open('movie_quotes.txt', 'r' ) as file:\n",
    "    line = file.readline() # 파일 끝에 도달할 시 '' 반환.\n",
    "                           # 실제로 빈 줄 읽을 때는 개행 문자 반환    \n",
    "    while line != '':\n",
    "        print(line, end='')\n",
    "        line = file.readline()\n",
    "    \n",
    "# 파일 전체를 읽어 문자열 리스트로 읽어 리턴\n",
    "with open('movie_quotes.txt', 'r' ) as file:\n",
    "    lines = file.readlines()\n",
    "    line = ''\n",
    "    for line in lines:\n",
    "        print(line, end='')\n"
   ]
  },
  {
   "cell_type": "code",
   "execution_count": null,
   "metadata": {},
   "outputs": [],
   "source": []
  }
 ],
 "metadata": {
  "kernelspec": {
   "display_name": "Python 3",
   "language": "python",
   "name": "python3"
  },
  "language_info": {
   "codemirror_mode": {
    "name": "ipython",
    "version": 3
   },
   "file_extension": ".py",
   "mimetype": "text/x-python",
   "name": "python",
   "nbconvert_exporter": "python",
   "pygments_lexer": "ipython3",
   "version": "3.7.0"
  }
 },
 "nbformat": 4,
 "nbformat_minor": 2
}
