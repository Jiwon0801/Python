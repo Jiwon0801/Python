{
 "cells": [
  {
   "cell_type": "code",
   "execution_count": 4,
   "metadata": {},
   "outputs": [
    {
     "name": "stdout",
     "output_type": "stream",
     "text": [
      "Initializing MyDecorator...\n",
      "\n",
      "Begin : print_hello\n",
      "Hello.\n",
      "End : print_hello\n"
     ]
    }
   ],
   "source": [
    "class MyDecorator:\n",
    "    def __init__(self, f):\n",
    "        print(\"Initializing MyDecorator...\")\n",
    "        self.func = f\n",
    "        \n",
    "    def __call__(self):\n",
    "        print(\"Begin : {0}\".format(self.func.__name__))\n",
    "        self.func()\n",
    "        print(\"End : {0}\".format(self.func.__name__))\n",
    "        \n",
    "def print_hello():\n",
    "    print(\"Hello.\")\n",
    "    \n",
    "print_hello = MyDecorator(print_hello)\n",
    "\n",
    "print() \n",
    "\n",
    "print_hello()"
   ]
  },
  {
   "cell_type": "code",
   "execution_count": 9,
   "metadata": {},
   "outputs": [
    {
     "name": "stdout",
     "output_type": "stream",
     "text": [
      "Initializing MyDecorator...\n",
      "\n",
      "Begin : print_hello\n",
      "Hello.\n",
      "End : print_hello\n"
     ]
    }
   ],
   "source": [
    "\n",
    "@MyDecorator #print_hello = MyDecorator(print_hello)\n",
    "def print_hello():\n",
    "    print(\"Hello.\")\n",
    "    \n",
    "print()\n",
    "    \n",
    "print_hello()"
   ]
  },
  {
   "cell_type": "code",
   "execution_count": null,
   "metadata": {},
   "outputs": [],
   "source": []
  }
 ],
 "metadata": {
  "kernelspec": {
   "display_name": "Python 3",
   "language": "python",
   "name": "python3"
  },
  "language_info": {
   "codemirror_mode": {
    "name": "ipython",
    "version": 3
   },
   "file_extension": ".py",
   "mimetype": "text/x-python",
   "name": "python",
   "nbconvert_exporter": "python",
   "pygments_lexer": "ipython3",
   "version": "3.7.0"
  }
 },
 "nbformat": 4,
 "nbformat_minor": 2
}
