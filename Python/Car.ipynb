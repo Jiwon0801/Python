{
 "cells": [
  {
   "cell_type": "code",
   "execution_count": 3,
   "metadata": {},
   "outputs": [],
   "source": [
    "from Car import Car\n",
    "from InstanceVar import InstanceVar\n"
   ]
  },
  {
   "cell_type": "code",
   "execution_count": 7,
   "metadata": {},
   "outputs": [
    {
     "name": "stdout",
     "output_type": "stream",
     "text": [
      "16711680 16 123\n"
     ]
    }
   ],
   "source": [
    "my_car = Car()\n",
    "my_car.num = 123\n",
    "\n",
    "print(my_car.color,my_car.wheel_size, my_car.num )\n",
    "\n"
   ]
  },
  {
   "cell_type": "code",
   "execution_count": 12,
   "metadata": {},
   "outputs": [
    {
     "name": "stdout",
     "output_type": "stream",
     "text": [
      "<Car.Car object at 0x0000000004FA01D0>\n"
     ]
    }
   ],
   "source": [
    "my_car2 = Car()\n",
    "print(my_car2)"
   ]
  },
  {
   "cell_type": "code",
   "execution_count": 13,
   "metadata": {},
   "outputs": [
    {
     "name": "stdout",
     "output_type": "stream",
     "text": [
      "0xFF0000\n",
      "16\n",
      "2000\n"
     ]
    }
   ],
   "source": [
    "print('0x{:02X}'.format(my_car.color))\n",
    "print(my_car.wheel_size)\n",
    "print(my_car.displacement)\n",
    "\n",
    "my_car.forward()\n",
    "my_car.backward()\n",
    "my_car.turn_left()\n",
    "my_car.turn_right()"
   ]
  },
  {
   "cell_type": "code",
   "execution_count": 3,
   "metadata": {},
   "outputs": [
    {
     "name": "stdout",
     "output_type": "stream",
     "text": [
      "['a', 'b', 'c', 'd', 'e']\n",
      "['b']\n"
     ]
    }
   ],
   "source": [
    "a = InstanceVar() # 생성자\n",
    "a.add('a')\n",
    "a.add('d')\n",
    "a.add('e')\n",
    "a.add('b')\n",
    "a.add('c')\n",
    "\n",
    "a.sort() # a,sort(reverse=True)\n",
    "a.print_list()\n",
    "\n",
    "b = InstanceVar()\n",
    "b.add('b')\n",
    "b.print_list()"
   ]
  },
  {
   "cell_type": "code",
   "execution_count": null,
   "metadata": {},
   "outputs": [],
   "source": []
  }
 ],
 "metadata": {
  "kernelspec": {
   "display_name": "Python 3",
   "language": "python",
   "name": "python3"
  },
  "language_info": {
   "codemirror_mode": {
    "name": "ipython",
    "version": 3
   },
   "file_extension": ".py",
   "mimetype": "text/x-python",
   "name": "python",
   "nbconvert_exporter": "python",
   "pygments_lexer": "ipython3",
   "version": "3.7.0"
  }
 },
 "nbformat": 4,
 "nbformat_minor": 2
}
