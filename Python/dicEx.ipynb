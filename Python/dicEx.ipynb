{
 "cells": [
  {
   "cell_type": "code",
   "execution_count": 4,
   "metadata": {},
   "outputs": [
    {
     "name": "stdout",
     "output_type": "stream",
     "text": [
      "요일(월~일)을 입력하세요 : \n",
      "월\n",
      "Monday\n"
     ]
    }
   ],
   "source": [
    "dic = { '월' : lambda : print('Monday'),\n",
    "       '화' : lambda : print('Tuesday'),\n",
    "       '수' : lambda : print('Wednesday'),\n",
    "       '목' : lambda : print('Thursday'),\n",
    "       '금' : lambda : print('Friday'),\n",
    "       '토' : lambda : print('Saturday'),\n",
    "       '일' : lambda : print('Sunday')\n",
    "}\n",
    "\n",
    "print('요일(월~일)을 입력하세요 : ')\n",
    "dow = input()\n",
    "if dow in dic.keys():\n",
    "    dic[dow]()\n",
    "else:\n",
    "    print('요일을 다시 입력 하시오.')"
   ]
  },
  {
   "cell_type": "code",
   "execution_count": 5,
   "metadata": {},
   "outputs": [
    {
     "name": "stdout",
     "output_type": "stream",
     "text": [
      "21\n"
     ]
    }
   ],
   "source": [
    "# 3항 연산자\n",
    "a=7\n",
    "b=7*(2 if (a%2==0) else 3)\n",
    "print(b)"
   ]
  },
  {
   "cell_type": "code",
   "execution_count": 8,
   "metadata": {},
   "outputs": [
    {
     "name": "stdout",
     "output_type": "stream",
     "text": [
      "[1, 2, 4, 5, 6, 9]\n"
     ]
    }
   ],
   "source": [
    "a = [1,4,5,6,2,9]\n",
    "a.sort()\n",
    "print(a)"
   ]
  },
  {
   "cell_type": "code",
   "execution_count": 9,
   "metadata": {},
   "outputs": [
    {
     "data": {
      "text/plain": [
       "[1, 2, 4, 5, 6, 9]"
      ]
     },
     "execution_count": 9,
     "metadata": {},
     "output_type": "execute_result"
    }
   ],
   "source": [
    "a = [1,4,5,6,2,9]\n",
    "\n",
    "sorted(a)"
   ]
  },
  {
   "cell_type": "code",
   "execution_count": 10,
   "metadata": {},
   "outputs": [
    {
     "name": "stdout",
     "output_type": "stream",
     "text": [
      "[1, 4, 5, 6, 2, 9]\n"
     ]
    }
   ],
   "source": [
    "print(a)"
   ]
  },
  {
   "cell_type": "code",
   "execution_count": 53,
   "metadata": {},
   "outputs": [
    {
     "name": "stdout",
     "output_type": "stream",
     "text": [
      "[('agustin', 'A', 29), ('zino', 'A', 29), ('stan', 'A', 16), ('dave', 'B', 12), ('ebe', 'B', 20), ('john', 'C', 15), ('jane', 'D', 10), ('ethn', 'F', 15), ('blake', 'F', 17)]\n",
      "[('agustin', 'A', 29), ('zino', 'A', 29), ('stan', 'A', 16), ('dave', 'B', 12), ('ebe', 'B', 20)]\n",
      "[('ethn', 'F', 15), ('blake', 'F', 17), ('jane', 'D', 10), ('john', 'C', 15), ('ebe', 'B', 20)]\n",
      "[('ethn', 'F', 15), ('blake', 'F', 17)]\n"
     ]
    }
   ],
   "source": [
    "student = [\n",
    "    ('john', 'C', 15),\n",
    "    ('jane', 'D', 10),\n",
    "    ('dave', 'B', 12),\n",
    "    ('agustin', 'A', 29),\n",
    "    ('zino', 'A', 29),\n",
    "    ('stan', 'A', 16),\n",
    "    ('ethn', 'F', 15),\n",
    "    ('ebe', 'B', 20),\n",
    "    ('blake', 'F', 17),\n",
    "]\n",
    "\n",
    "#import random as r\n",
    "#r.shuffle(student)\n",
    "student.sort(reverse=False, key = lambda o : o[1])\n",
    "print(student)\n",
    "\n",
    "best = student [:5]\n",
    "print(best)\n",
    "\n",
    "worst= student[-5:]\n",
    "worst.sort(reverse=True, key = lambda o : o[1])\n",
    "print(worst)\n",
    "\n",
    "fail = [s for s in student if s[1] == 'F']\n",
    "print(fail)\n",
    "     \n"
   ]
  },
  {
   "cell_type": "code",
   "execution_count": null,
   "metadata": {},
   "outputs": [],
   "source": []
  },
  {
   "cell_type": "code",
   "execution_count": null,
   "metadata": {},
   "outputs": [],
   "source": []
  }
 ],
 "metadata": {
  "kernelspec": {
   "display_name": "Python 3",
   "language": "python",
   "name": "python3"
  },
  "language_info": {
   "codemirror_mode": {
    "name": "ipython",
    "version": 3
   },
   "file_extension": ".py",
   "mimetype": "text/x-python",
   "name": "python",
   "nbconvert_exporter": "python",
   "pygments_lexer": "ipython3",
   "version": "3.7.0"
  }
 },
 "nbformat": 4,
 "nbformat_minor": 2
}
