{
 "cells": [
  {
   "cell_type": "code",
   "execution_count": 1,
   "metadata": {},
   "outputs": [
    {
     "name": "stdout",
     "output_type": "stream",
     "text": [
      "[('agustin', 'A', 29), ('zino', 'A', 29), ('stan', 'A', 16), ('dave', 'B', 12), ('ebe', 'B', 20), ('john', 'C', 15), ('jane', 'D', 10), ('ethn', 'F', 15), ('blake', 'F', 17)]\n",
      "[('agustin', 'A', 29), ('zino', 'A', 29), ('stan', 'A', 16), ('dave', 'B', 12), ('ebe', 'B', 20)]\n",
      "[('ethn', 'F', 15), ('blake', 'F', 17), ('jane', 'D', 10), ('john', 'C', 15), ('ebe', 'B', 20)]\n",
      "[('ethn', 'F', 15), ('blake', 'F', 17)]\n"
     ]
    }
   ],
   "source": [
    "student = [\n",
    "    ('john', 'C', 15),\n",
    "    ('jane', 'D', 10),\n",
    "    ('dave', 'B', 12),\n",
    "    ('agustin', 'A', 29),\n",
    "    ('zino', 'A', 29),\n",
    "    ('stan', 'A', 16),\n",
    "    ('ethn', 'F', 15),\n",
    "    ('ebe', 'B', 20),\n",
    "    ('blake', 'F', 17),\n",
    "]\n",
    "\n",
    "#import random as r\n",
    "#r.shuffle(student)\n",
    "student.sort(reverse=False, key = lambda o : o[1])\n",
    "print(student)\n",
    "\n",
    "best = student [:5]\n",
    "print(best)\n",
    "\n",
    "worst= student[-5:]\n",
    "worst.sort(reverse=True, key = lambda o : o[1])\n",
    "print(worst)\n",
    "\n",
    "fail = [s for s in student if s[1] == 'F']\n",
    "print(fail)\n",
    "\n"
   ]
  },
  {
   "cell_type": "code",
   "execution_count": 6,
   "metadata": {},
   "outputs": [
    {
     "name": "stdout",
     "output_type": "stream",
     "text": [
      "163 18.11111111111111\n",
      "[('stan', 'A', 16), ('dave', 'B', 12), ('john', 'C', 15), ('jane', 'D', 10), ('ethn', 'F', 15), ('blake', 'F', 17)]\n"
     ]
    }
   ],
   "source": [
    "import math\n",
    "score = [ s[2] for s in student ]\n",
    "total = sum(score)\n",
    "mean = total/len(score)\n",
    "print(total, mean)\n",
    "\n",
    "\n",
    "mean_under = [s for s in student if s[2] < mean]\n",
    "print(mean_under)"
   ]
  },
  {
   "cell_type": "code",
   "execution_count": null,
   "metadata": {},
   "outputs": [],
   "source": []
  }
 ],
 "metadata": {
  "kernelspec": {
   "display_name": "Python 3",
   "language": "python",
   "name": "python3"
  },
  "language_info": {
   "codemirror_mode": {
    "name": "ipython",
    "version": 3
   },
   "file_extension": ".py",
   "mimetype": "text/x-python",
   "name": "python",
   "nbconvert_exporter": "python",
   "pygments_lexer": "ipython3",
   "version": "3.7.0"
  }
 },
 "nbformat": 4,
 "nbformat_minor": 2
}
