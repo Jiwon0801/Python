{
 "cells": [
  {
   "cell_type": "code",
   "execution_count": 2,
   "metadata": {},
   "outputs": [],
   "source": [
    "def my_abs(arg):\n",
    "    if(arg < 0):\n",
    "        result = arg * -1\n",
    "    else:\n",
    "        result = arg\n",
    "        \n",
    "        return result"
   ]
  },
  {
   "cell_type": "code",
   "execution_count": 3,
   "metadata": {},
   "outputs": [
    {
     "name": "stdout",
     "output_type": "stream",
     "text": [
      "안녕하세요\n",
      "안녕하세요\n",
      "안녕하세요\n"
     ]
    }
   ],
   "source": [
    "def print_string(text, count):\n",
    "    for i in range(count):\n",
    "        print(text)\n",
    "    \n",
    "print_string('안녕하세요', 3)"
   ]
  },
  {
   "cell_type": "code",
   "execution_count": 4,
   "metadata": {},
   "outputs": [],
   "source": [
    "def print_personnel(name, position = 'staff', nationality = 'korea'):\n",
    "    print('name = {0}'.format(name))\n",
    "    print('staff = {}'.format(position))\n",
    "    print('nationality=\"{}\"'.format(nationality))"
   ]
  },
  {
   "cell_type": "code",
   "execution_count": 5,
   "metadata": {},
   "outputs": [
    {
     "name": "stdout",
     "output_type": "stream",
     "text": [
      "name = 박상현\n",
      "staff = staff\n",
      "nationality=\"korea\"\n"
     ]
    }
   ],
   "source": [
    "print_personnel(name = '박상현')"
   ]
  },
  {
   "cell_type": "code",
   "execution_count": 8,
   "metadata": {},
   "outputs": [
    {
     "name": "stdout",
     "output_type": "stream",
     "text": [
      "name = 박상현\n",
      "staff = intern\n",
      "nationality=\"korea\"\n"
     ]
    }
   ],
   "source": [
    "print_personnel(name = '박상현',position = 'intern')"
   ]
  },
  {
   "cell_type": "code",
   "execution_count": 21,
   "metadata": {},
   "outputs": [
    {
     "data": {
      "text/plain": [
       "'개그아버지가방에들어가신다.'"
      ]
     },
     "execution_count": 21,
     "metadata": {},
     "output_type": "execute_result"
    }
   ],
   "source": [
    "\n",
    "# 가변매개변수\n",
    "def merge_string(title, *text_list):\n",
    "    result = title+ \"\"\n",
    "    for s in text_list:\n",
    "            result= result+s\n",
    "    return result\n",
    "\n",
    "        \n",
    "merge_string('개그', '아버지가', '방에', '들어가신다.')"
   ]
  },
  {
   "cell_type": "code",
   "execution_count": 24,
   "metadata": {},
   "outputs": [
    {
     "name": "stdout",
     "output_type": "stream",
     "text": [
      "argv1\n",
      "argv2\n",
      "argv3\n"
     ]
    }
   ],
   "source": [
    "def print_args(*argv, argc):\n",
    "    for i in range(argc):\n",
    "        print(argv[i])\n",
    "        \n",
    "print_args(\"argv1\", \"argv2\", \"argv3\", argc=3)"
   ]
  },
  {
   "cell_type": "code",
   "execution_count": 34,
   "metadata": {},
   "outputs": [
    {
     "name": "stdout",
     "output_type": "stream",
     "text": [
      "21\n",
      "(1, 2, 3, 4, 5, 6)\n"
     ]
    },
    {
     "data": {
      "text/plain": [
       "21"
      ]
     },
     "execution_count": 34,
     "metadata": {},
     "output_type": "execute_result"
    }
   ],
   "source": [
    "def sum(*nums):\n",
    "    total = 0\n",
    "    for i in nums:\n",
    "        total += i\n",
    "    return total\n",
    "\n",
    "print(sum(1,2,3,4,5,6))\n",
    "\n",
    "numbers = tuple(range(1,7))\n",
    "print(numbers)\n",
    "\n",
    "sum(*numbers) # 튜플 안 요소 자체 값 넘기기 위해 *\n",
    "#sum(numbers) # tuple에 대한 tuple loop -> total 덧셈 불가"
   ]
  },
  {
   "cell_type": "code",
   "execution_count": 36,
   "metadata": {},
   "outputs": [
    {
     "name": "stdout",
     "output_type": "stream",
     "text": [
      "1번째 숫자1\n",
      "2번째 숫자2\n",
      "3번째 숫자3\n",
      "4번째 숫자4\n",
      "5번째 숫자5\n",
      "15\n"
     ]
    }
   ],
   "source": [
    "List=[]\n",
    "for i in range(1,6):\n",
    "    num = int(input('{}번째 숫자: '.format(i)))\n",
    "    List.append(num)\n",
    "    \n",
    "def sum(*nums):\n",
    "    total = 0\n",
    "    for i in nums:\n",
    "        total += i\n",
    "    return total\n",
    "    \n",
    "print(sum(*List))"
   ]
  },
  {
   "cell_type": "code",
   "execution_count": 38,
   "metadata": {},
   "outputs": [
    {
     "name": "stdout",
     "output_type": "stream",
     "text": [
      "[4, 16, 36]\n"
     ]
    }
   ],
   "source": [
    "numbers = [1,2,3,4,5,6]\n",
    "numbers = [i*i for i in numbers if i%2==0]\n",
    "print(numbers)"
   ]
  },
  {
   "cell_type": "code",
   "execution_count": 61,
   "metadata": {},
   "outputs": [
    {
     "name": "stdout",
     "output_type": "stream",
     "text": [
      "a:0\n"
     ]
    }
   ],
   "source": [
    "def test():\n",
    "    #global a\n",
    "    #a=1\n",
    "    print('a:{0}'.format(a))\n",
    "\n",
    "\n",
    "test()    \n",
    "#a=0\n",
    "#print('a:{0}'.format(a))"
   ]
  },
  {
   "cell_type": "code",
   "execution_count": 64,
   "metadata": {},
   "outputs": [
    {
     "name": "stdout",
     "output_type": "stream",
     "text": [
      "123\n",
      "abc\n"
     ]
    }
   ],
   "source": [
    "def print_something(a):\n",
    "    print(a)\n",
    "p = print_something\n",
    "p(123)\n",
    "p('abc')"
   ]
  },
  {
   "cell_type": "code",
   "execution_count": 78,
   "metadata": {},
   "outputs": [
    {
     "data": {
      "text/plain": [
       "-1"
      ]
     },
     "execution_count": 78,
     "metadata": {},
     "output_type": "execute_result"
    }
   ],
   "source": [
    "def plus(a,b):\n",
    "    return a+b\n",
    "def minus(a,b):\n",
    "    return a-b\n",
    "\n",
    "flist = [plus, minus]\n",
    "\n",
    "flist[0](1,2)\n",
    "flist[1](1,2)\n"
   ]
  },
  {
   "cell_type": "code",
   "execution_count": null,
   "metadata": {},
   "outputs": [],
   "source": []
  },
  {
   "cell_type": "code",
   "execution_count": 81,
   "metadata": {},
   "outputs": [
    {
     "name": "stdout",
     "output_type": "stream",
     "text": [
      "안녕하세요\n",
      "Hello\n",
      "안녕하세요\n",
      "Hello\n"
     ]
    }
   ],
   "source": [
    "def hello_korean() :\n",
    "    print('안녕하세요')\n",
    "def hello_english() :\n",
    "    print('Hello')\n",
    "    \n",
    "def greet(hello):\n",
    "    hello()\n",
    "\n",
    "    \n",
    "greet(hello_korean)\n",
    "greet(hello_english)\n",
    "\n",
    "\n",
    "def get_greeting(where):\n",
    "    if where == 'K':\n",
    "        return hello_korean\n",
    "    else:\n",
    "        return hello_english\n",
    "    \n",
    "hello = get_greeting('K')\n",
    "hello()\n",
    "hi = get_greeting('E')\n",
    "hi()"
   ]
  },
  {
   "cell_type": "code",
   "execution_count": 88,
   "metadata": {},
   "outputs": [],
   "source": [
    "import math\n",
    "def stddev(*args):\n",
    "    def mean(): # 중첩함수\n",
    "        return sum(*args)/len(args)\n",
    "    def variance(m): # 중첩함수\n",
    "        total = 0\n",
    "        for arg in args:\n",
    "            total += (arg-m) ** 2\n",
    "        return total/(len(args)-1)\n",
    "    v = variance(mean())\n",
    "    return math.sqrt(v)"
   ]
  },
  {
   "cell_type": "code",
   "execution_count": 89,
   "metadata": {},
   "outputs": [
    {
     "data": {
      "text/plain": [
       "0.6"
      ]
     },
     "execution_count": 89,
     "metadata": {},
     "output_type": "execute_result"
    }
   ],
   "source": [
    "stddev(2.3, 1.7, 1.4, 0.7, 1.9)"
   ]
  },
  {
   "cell_type": "code",
   "execution_count": 90,
   "metadata": {},
   "outputs": [],
   "source": [
    "def empty_function():\n",
    "    pass # 내용 없음\n"
   ]
  },
  {
   "cell_type": "code",
   "execution_count": 92,
   "metadata": {},
   "outputs": [
    {
     "data": {
      "text/plain": [
       "3"
      ]
     },
     "execution_count": 92,
     "metadata": {},
     "output_type": "execute_result"
    }
   ],
   "source": [
    "a = lambda x,y : sum(x,y)\n",
    "a(1,2)"
   ]
  },
  {
   "cell_type": "code",
   "execution_count": null,
   "metadata": {},
   "outputs": [],
   "source": []
  },
  {
   "cell_type": "code",
   "execution_count": 94,
   "metadata": {},
   "outputs": [
    {
     "name": "stdout",
     "output_type": "stream",
     "text": [
      "정수: 1\n",
      "소수입니다.\n"
     ]
    }
   ],
   "source": [
    "num = int(input(\"정수: \"))\n",
    "for i in range(2, num+1):\n",
    "    if num%i == 0:\n",
    "        break;\n",
    "else:\n",
    "    print('소수입니다.')"
   ]
  },
  {
   "cell_type": "code",
   "execution_count": null,
   "metadata": {},
   "outputs": [],
   "source": []
  }
 ],
 "metadata": {
  "kernelspec": {
   "display_name": "Python 3",
   "language": "python",
   "name": "python3"
  },
  "language_info": {
   "codemirror_mode": {
    "name": "ipython",
    "version": 3
   },
   "file_extension": ".py",
   "mimetype": "text/x-python",
   "name": "python",
   "nbconvert_exporter": "python",
   "pygments_lexer": "ipython3",
   "version": "3.7.0"
  }
 },
 "nbformat": 4,
 "nbformat_minor": 2
}
